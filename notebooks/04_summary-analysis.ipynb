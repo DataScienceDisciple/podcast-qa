{
 "cells": [
  {
   "cell_type": "code",
   "execution_count": 2,
   "metadata": {},
   "outputs": [
    {
     "data": {
      "text/plain": [
       "True"
      ]
     },
     "execution_count": 2,
     "metadata": {},
     "output_type": "execute_result"
    }
   ],
   "source": [
    "import os\n",
    "import re\n",
    "import json\n",
    "import joblib\n",
    "import faiss\n",
    "import pandas as pd\n",
    "import numpy as np\n",
    "import matplotlib.pyplot as plt\n",
    "\n",
    "from langchain.docstore.document import Document\n",
    "from langchain.embeddings import OpenAIEmbeddings\n",
    "\n",
    "from sklearn.cluster import KMeans\n",
    "from sklearn.manifold import TSNE\n",
    "from sklearn.metrics import silhouette_score\n",
    "from dotenv import find_dotenv, load_dotenv\n",
    "\n",
    "dotenv_path = find_dotenv()\n",
    "load_dotenv(dotenv_path)"
   ]
  },
  {
   "attachments": {},
   "cell_type": "markdown",
   "metadata": {},
   "source": [
    "### Preparing video metadata"
   ]
  },
  {
   "cell_type": "code",
   "execution_count": 4,
   "metadata": {},
   "outputs": [],
   "source": [
    "def find_episode_name(s):\n",
    "    pattern = r'Episode(.*?),\\s*Segment'\n",
    "    result = re.search(pattern, s)\n",
    "    if result:\n",
    "        return result.group(1).strip()\n",
    "    else:\n",
    "        return None\n",
    "    \n",
    "def find_segment_name(s):\n",
    "    pattern = r'Segment(.*?)\\(\\d{2}-\\d{2}-\\d{2}\\s*\\d{2}-\\d{2}-\\d{2}\\)'\n",
    "    result = re.search(pattern, s)\n",
    "    if result:\n",
    "        return result.group(1).strip()\n",
    "    else:\n",
    "        return None\n",
    "    \n",
    "def get_start_timestamp_in_s(s):\n",
    "    pattern = r'\\((\\d{2})-(\\d{2})-(\\d{2})\\s*\\d{2}-\\d{2}-\\d{2}\\)'\n",
    "    result = re.search(pattern, s)\n",
    "    if result:\n",
    "        hours = int(result.group(1))\n",
    "        minutes = int(result.group(2))\n",
    "        seconds = int(result.group(3))\n",
    "        total_seconds = (hours * 3600) + (minutes * 60) + seconds\n",
    "        return total_seconds\n",
    "    else:\n",
    "        return None\n",
    "    \n",
    "def get_yt_url(video_id, start_timestamp):\n",
    "    return f\"https://www.youtube.com/watch?v={video_id}&t={start_timestamp}s\"\n",
    "\n",
    "def create_summary_docs_and_metadata(summary_directory):\n",
    "    video_data = pd.read_csv(os.path.join('data', 'video_metadata.csv'))\n",
    "    video_data['title'] = video_data['title'].apply(lambda x: x.replace(\"/\", \" \").replace(\":\", \"-\"))\n",
    "    \n",
    "    data = []\n",
    "    docs = []\n",
    "    for filename in os.listdir(summary_directory):\n",
    "        if not filename.startswith('.'):\n",
    "            episode_name = find_episode_name(filename)\n",
    "            segment_name = find_segment_name(filename)\n",
    "            video_id = video_data.loc[video_data['title'] == episode_name, \"videoId\"].to_list()[0]\n",
    "            start_timestamp_s = get_start_timestamp_in_s(filename)\n",
    "            url = get_yt_url(video_id, start_timestamp_s)\n",
    "            full_path = os.path.join(summary_directory, filename)\n",
    "            with open(full_path) as f:\n",
    "                text = f.read()\n",
    "            docs.append(Document(page_content=text, metadata={\"episode_name\": episode_name,\n",
    "                                                              \"segment_name\": segment_name,\n",
    "                                                              \"url\": url}))\n",
    "            data.append([episode_name, segment_name, text, url])\n",
    "\n",
    "    metadata = pd.DataFrame(data, columns=['episode_name', 'segment_name', 'summary', \"url\"])\n",
    "    return metadata, docs"
   ]
  },
  {
   "cell_type": "code",
   "execution_count": 5,
   "metadata": {},
   "outputs": [],
   "source": [
    "summary_dir = os.path.join(\"data\", \"summaries\")\n",
    "df_metadata, docs = create_summary_docs_and_metadata(summary_dir)"
   ]
  },
  {
   "cell_type": "code",
   "execution_count": null,
   "metadata": {},
   "outputs": [],
   "source": [
    "df_metadata.to_csv(os.path.join('data', 'video_metadata.csv'), index=False)"
   ]
  },
  {
   "cell_type": "code",
   "execution_count": null,
   "metadata": {},
   "outputs": [],
   "source": [
    "docs"
   ]
  },
  {
   "attachments": {},
   "cell_type": "markdown",
   "metadata": {},
   "source": [
    "### OpenAI embeddings"
   ]
  },
  {
   "cell_type": "code",
   "execution_count": null,
   "metadata": {},
   "outputs": [],
   "source": [
    "embeddings = OpenAIEmbeddings()\n",
    "vectors = embeddings.embed_documents(texts=[doc.page_content for doc in docs])"
   ]
  },
  {
   "cell_type": "code",
   "execution_count": null,
   "metadata": {},
   "outputs": [],
   "source": [
    "joblib.dump(vectors, os.path.join(\"data\", \"embeddings\", \"summary_embeddings.joblib\"))"
   ]
  },
  {
   "cell_type": "code",
   "execution_count": null,
   "metadata": {},
   "outputs": [],
   "source": [
    "vectors_array = np.array(vectors)"
   ]
  },
  {
   "attachments": {},
   "cell_type": "markdown",
   "metadata": {},
   "source": [
    "### SBERT embeddings"
   ]
  },
  {
   "cell_type": "code",
   "execution_count": 11,
   "metadata": {},
   "outputs": [
    {
     "name": "stderr",
     "output_type": "stream",
     "text": [
      "/Users/lukaszlaszczuk/Library/Caches/pypoetry/virtualenvs/hubermanlab-qa-1tiWphOA-py3.9/lib/python3.9/site-packages/tqdm/auto.py:21: TqdmWarning: IProgress not found. Please update jupyter and ipywidgets. See https://ipywidgets.readthedocs.io/en/stable/user_install.html\n",
      "  from .autonotebook import tqdm as notebook_tqdm\n"
     ]
    }
   ],
   "source": [
    "from sentence_transformers import SentenceTransformer\n",
    "model = SentenceTransformer('all-MiniLM-L6-v2')"
   ]
  },
  {
   "cell_type": "code",
   "execution_count": 6,
   "metadata": {},
   "outputs": [],
   "source": [
    "df = pd.read_csv(os.path.join(\"data\", \"summary_kmeans_with_chatgpt_and_keywords_final.csv\"))"
   ]
  },
  {
   "cell_type": "code",
   "execution_count": 8,
   "metadata": {},
   "outputs": [],
   "source": [
    "summaries = [row[\"summary\"] for i, row in df.iterrows()]"
   ]
  },
  {
   "cell_type": "code",
   "execution_count": 13,
   "metadata": {},
   "outputs": [],
   "source": [
    "embeddings = model.encode(summaries)"
   ]
  },
  {
   "cell_type": "code",
   "execution_count": 15,
   "metadata": {},
   "outputs": [
    {
     "data": {
      "text/plain": [
       "['data/embeddings/summary_embeddings_sbert.joblib']"
      ]
     },
     "execution_count": 15,
     "metadata": {},
     "output_type": "execute_result"
    }
   ],
   "source": [
    "joblib.dump(embeddings, os.path.join(\"data\", \"embeddings\", \"summary_embeddings_sbert.joblib\"))"
   ]
  },
  {
   "attachments": {},
   "cell_type": "markdown",
   "metadata": {},
   "source": [
    "Move the vector to faiss embedding"
   ]
  },
  {
   "cell_type": "code",
   "execution_count": 17,
   "metadata": {},
   "outputs": [
    {
     "data": {
      "text/plain": [
       "(2831, 384)"
      ]
     },
     "execution_count": 17,
     "metadata": {},
     "output_type": "execute_result"
    }
   ],
   "source": [
    "embeddings.shape"
   ]
  },
  {
   "cell_type": "code",
   "execution_count": 19,
   "metadata": {},
   "outputs": [],
   "source": [
    "N_DIM = 384\n",
    "index = faiss.IndexFlatIP(N_DIM)\n",
    "index.add(embeddings)\n",
    "faiss.write_index(index, os.path.join(\"data\", \"embeddings\", \"faiss_summary_index_sbert.faiss\"))"
   ]
  },
  {
   "attachments": {},
   "cell_type": "markdown",
   "metadata": {},
   "source": [
    "### KMeans on embeddings"
   ]
  },
  {
   "cell_type": "code",
   "execution_count": null,
   "metadata": {},
   "outputs": [],
   "source": [
    "num_clusters = 30\n",
    "kmeans = KMeans(n_clusters=num_clusters,\n",
    "                init='k-means++',\n",
    "                n_init=10,\n",
    "                random_state=42).fit(vectors_array)\n",
    "\n",
    "\n",
    "# Perform t-SNE and reduce to 2 dimensions\n",
    "tsne = TSNE(n_components=2, random_state=42)\n",
    "reduced_data_tsne = tsne.fit_transform(vectors_array)"
   ]
  },
  {
   "cell_type": "code",
   "execution_count": null,
   "metadata": {},
   "outputs": [],
   "source": [
    "df_plot = pd.DataFrame(reduced_data_tsne)\n",
    "df_plot['label'] = kmeans.labels_\n",
    "cmap = plt.cm.get_cmap('gist_ncar', num_clusters)\n",
    "colors = [cmap(i) for i in range(num_clusters)]\n",
    "\n",
    "for i, df in df_plot.groupby(\"label\"):\n",
    "    plt.scatter(df.iloc[:, 0], df.iloc[:, 1], c=colors[i], label=i, alpha=0.7)\n",
    "\n",
    "plt.xlabel('Dimension 1')\n",
    "plt.ylabel('Dimension 2')\n",
    "plt.title('Summary Embeddings Clustered')\n",
    "plt.savefig(os.path.join(\"images\", \"summary_kmeans_tsne_results.png\"))"
   ]
  },
  {
   "cell_type": "code",
   "execution_count": null,
   "metadata": {},
   "outputs": [],
   "source": [
    "df_metadata['k_means_label'] = kmeans.labels_"
   ]
  },
  {
   "cell_type": "code",
   "execution_count": null,
   "metadata": {},
   "outputs": [],
   "source": [
    "df_sorted = df_metadata.sort_values(by=[\"k_means_label\"]).reset_index(drop=True)"
   ]
  },
  {
   "cell_type": "code",
   "execution_count": null,
   "metadata": {},
   "outputs": [],
   "source": [
    "df_sorted.to_csv(os.path.join('data', 'summaries_kmeans.csv'), index=False)"
   ]
  },
  {
   "attachments": {},
   "cell_type": "markdown",
   "metadata": {},
   "source": [
    "### Sample segments for giving ontology to ChatGPT"
   ]
  },
  {
   "cell_type": "code",
   "execution_count": null,
   "metadata": {},
   "outputs": [],
   "source": [
    "df_na_dropped = df_sorted.dropna(subset=[\"segment_name\"])"
   ]
  },
  {
   "cell_type": "code",
   "execution_count": null,
   "metadata": {},
   "outputs": [],
   "source": [
    "for i in range(0, 30, 5):\n",
    "    df_na_dropped[df_na_dropped[\"k_means_label\"].isin(list(range(i, i+5)))].sample(200).loc[:, [\"k_means_label\", \"segment_name\"]].to_csv(f'../data/label_sample_{i}_{i+5}.csv', index=False)"
   ]
  },
  {
   "attachments": {},
   "cell_type": "markdown",
   "metadata": {},
   "source": [
    "### Mapping from ChatGPT"
   ]
  },
  {
   "cell_type": "code",
   "execution_count": null,
   "metadata": {},
   "outputs": [],
   "source": [
    "mapping = {\n",
    "    \"Mental Health and Emotional Resilience\": [0, 2, 18, 20],\n",
    "    \"Physical Performance and Recovery\": [1, 4, 8, 15, 22, 29],\n",
    "    \"Sleep, Circadian Rhythms and Light\": [5, 7, 26],\n",
    "    \"Meditation, Focus, and Cognitive Training\": [3, 11, 17, 23, 27],\n",
    "    \"Nutrition, Supplements, and Metabolic Health\": [9, 16, 24, 25, 28],\n",
    "    \"Gut Health and Microbiome\": [6],\n",
    "    \"Relationships, Social Dynamics, and Personal Development\": [10, 21],\n",
    "    \"Neuroscience, Biohacking, and Health Monitoring\": [12, 14, 19],\n",
    "    \"Taste, Smell, and Perception\": [13]\n",
    "}\n",
    "\n",
    "# Create a reverse mapping dictionary\n",
    "reverse_mapping = {old_cat: new_cat for new_cat, old_cats in mapping.items() for old_cat in old_cats}\n",
    "\n",
    "# Replace old category values with new non-overlapping categories\n",
    "df_sorted['chatgpt_labels'] = df_sorted['k_means_label'].replace(reverse_mapping)"
   ]
  },
  {
   "cell_type": "code",
   "execution_count": null,
   "metadata": {},
   "outputs": [],
   "source": [
    "df_sorted.to_csv(os.path.join('data', 'summary_kmeans_with_chatgpt_labels.csv'), index=False)"
   ]
  },
  {
   "attachments": {},
   "cell_type": "markdown",
   "metadata": {},
   "source": [
    "#### Category keywords"
   ]
  },
  {
   "cell_type": "code",
   "execution_count": null,
   "metadata": {},
   "outputs": [],
   "source": [
    "cat_keywords = {\n",
    "    \"Mental Health and Emotional Resilience\": [\n",
    "        \"fear\",\n",
    "        \"aggression\",\n",
    "        \"anxiety\",\n",
    "        \"grief\",\n",
    "        \"trauma\",\n",
    "        \"memory\",\n",
    "        \"motivation\",\n",
    "        \"mindfulness\",\n",
    "        \"gratitude\",\n",
    "        \"brain regions\",\n",
    "        \"stress response\",\n",
    "        \"cortisol\",\n",
    "        \"inflammation\",\n",
    "        \"relaxation\",\n",
    "        \"coping mechanisms\",\n",
    "        \"stress inoculation\",\n",
    "        \"stress threshold\",\n",
    "        \"emotions\",\n",
    "        \"resilience\",\n",
    "        \"OCD\",\n",
    "        \"bipolar disorder\",\n",
    "        \"depression\",\n",
    "        \"ADHD\",\n",
    "        \"mental health\",\n",
    "        \"CBT\",\n",
    "        \"exposure therapy\",\n",
    "        \"SSRIs\",\n",
    "        \"symptoms\",\n",
    "        \"mania\",\n",
    "        \"relapse\",\n",
    "        \"triggers\",\n",
    "        \"cortico-striatal-thalamic loop\",\n",
    "        \"hyper-focus\",\n",
    "        \"neural circuits\",\n",
    "        \"suicide\",\n",
    "        \"working memory\",\n",
    "        \"happiness\",\n",
    "        \"creativity\",\n",
    "        \"self-talk\",\n",
    "        \"ambition\",\n",
    "        \"self-doubt\",\n",
    "        \"friendship\",\n",
    "        \"narcissism\",\n",
    "        \"loneliness\",\n",
    "        \"visualization\",\n",
    "        \"play\",\n",
    "        \"power dynamics\"],\n",
    "    \"Physical Performance and Recovery\": [\n",
    "        \"ATP\",\n",
    "        \"Creatine\",\n",
    "        \"Magnesium\",\n",
    "        \"anaerobic capacity\",\n",
    "        \"antagonistic muscles\",\n",
    "        \"blood flow\",\n",
    "        \"body temperature\",\n",
    "        \"breathwork\",\n",
    "        \"breathing mechanics\",\n",
    "        \"caffeine\",\n",
    "        \"cardiovascular adaptations\",\n",
    "        \"cold exposure\",\n",
    "        \"cooling\",\n",
    "        \"dehydration\",\n",
    "        \"dynamic movements\",\n",
    "        \"electrolytes\",\n",
    "        \"endurance\",\n",
    "        \"endurance training\",\n",
    "        \"energy\",\n",
    "        \"exercise\",\n",
    "        \"exercise order\",\n",
    "        \"fat loss\",\n",
    "        \"fitness metric\",\n",
    "        \"flexibility\",\n",
    "        \"gym\",\n",
    "        \"heat exposure\",\n",
    "        \"heart rate\",\n",
    "        \"heart rate variability\",\n",
    "        \"heating\",\n",
    "        \"high-intensity\",\n",
    "        \"HIIT\",\n",
    "        \"hydration\",\n",
    "        \"hypertrophy\",\n",
    "        \"hyperventilation\",\n",
    "        \"infrequent training\",\n",
    "        \"kidneys\",\n",
    "        \"lactate\",\n",
    "        \"low-carbohydrate diets\",\n",
    "        \"meditation\",\n",
    "        \"mental resilience\",\n",
    "        \"modifiable variables\",\n",
    "        \"muscle\",\n",
    "        \"muscle memory\",\n",
    "        \"muscle physiology\",\n",
    "        \"nasal breathing\",\n",
    "        \"nutrition\",\n",
    "        \"oxygen utilization\",\n",
    "        \"osteopenia\",\n",
    "        \"osteoporosis\",\n",
    "        \"plasticity\",\n",
    "        \"power vs. strength training\",\n",
    "        \"pushing vs. pulling exercises\",\n",
    "        \"range of motion\",\n",
    "        \"recovery\",\n",
    "        \"resistance training\",\n",
    "        \"rest periods\",\n",
    "        \"routine\",\n",
    "        \"sauna\",\n",
    "        \"salt intake\",\n",
    "        \"sets\",\n",
    "        \"sleep apnea\",\n",
    "        \"stress reduction\",\n",
    "        \"strength\",\n",
    "        \"strength test\",\n",
    "        \"stretching\",\n",
    "        \"training\",\n",
    "        \"training frequency\",\n",
    "        \"training program\",\n",
    "        \"upper motor neurons\",\n",
    "        \"urine regulation\",\n",
    "        \"warming up\",\n",
    "        \"water\",\n",
    "        \"water filters\",\n",
    "        \"water filtration\",\n",
    "        \"workout\"\n",
    "    ],\n",
    "    \"Sleep, Circadian Rhythms and Light\": [\n",
    "      \"sleep\", \"circadian rhythm\", \"melatonin\", \"REM\", \"deep sleep\",\n",
    "      \"naps\", \"shift workers\", \"hormones\", \"light\", \"jetlag\", \"vision\",\n",
    "      \"sunlight\", \"blue light\", \"infrared\", \"eye\", \"phototherapy\",\n",
    "      \"sun exposure\", \"circadian entrainment\", \"mood\", \"fasting\",\n",
    "      \"meal timing\", \"protein\", \"autophagy\", \"TRE\", \"cardiovascular health\",\n",
    "      \"blood glucose\", \"firefighters\", \"morning protein\", \"gut health\",\n",
    "      \"microbiota\"\n",
    "   ],\n",
    "   \"Meditation, Focus, and Cognitive Training\": [\n",
    "      \"meditation\", \"focus\", \"goal setting\", \"hypnosis\", \"visual attention\",\n",
    "      \"interoception\", \"time perception\", \"cognitive performance\", \"self-directed\",\n",
    "      \"mental training\", \"injury\", \"travel\", \"layoffs\", \"exercise\", \"memory\",\n",
    "      \"procedural memory\", \"visualization\", \"balance\", \"movement diversity\",\n",
    "      \"squat challenge\", \"stop-signal task\", \"acetylcholine\", \"attention\",\n",
    "      \"limb range of motion\", \"automaticity\", \"habit formation\", \"ultradian training\",\n",
    "      \"cardiovascular exercise\", \"neurogenesis\", \"binaural frequency\", \"work\",\n",
    "      \"awareness\", \"gender\", \"age\", \"smooth pursuit\", \"competition\", \"dynamic movement\",\n",
    "      \"mindset\", \"Hebbian learning\", \"NMDA receptors\", \"skill development\", \"nervous system\",\n",
    "      \"brain\", \"language\", \"neural control\", \"neural circuits\", \"sensory perception\", \"pain\",\n",
    "      \"brain machine interface\", \"neural repair\", \"encoding\", \"depth perception\", \"caffeine\",\n",
    "      \"adrenaline\", \"alertness\", \"dopamine\", \"epinephrine\", \"neurotransmitters\",\n",
    "      \"phenylethylamine\", \"modafinil\", \"huperzine A\", \"lactate\", \"cognitive enhancement\",\n",
    "      \"sense of self\", \"brain-body contract\", \"cold exposure\", \"sauna\", \"habits\",\n",
    "      \"deliberate practice\", \"smell\", \"social media mindset\", \"Andrew Tate\",\n",
    "      \"Masculinity\", \"OnTime Health App\", \"photographic memory\", \"bizarre addiction\",\n",
    "      \"momentous supplements\", \"romantic love\", \"connecting to Dr. Walker\",\n",
    "      \"Dr. Matthew Johnson\", \"Jocko Willink\", \"fitness testing\", \"grief & bereavement\",\n",
    "      \"creativity & ideas\", \"UFC performance institute\", \"summary of protocols\",\n",
    "      \"blood & oxygen for vision\"\n",
    "   ],\n",
    "   \"Nutrition, Supplements, and Metabolic Health\": [\n",
    "      \"supplements\", \"omega-3\", \"vitamins\", \"minerals\", \"creatine\", \"nutrition\",\n",
    "      \"amino acids\", \"antioxidants\", \"protein\", \"hormones\", \"puberty\", \"fertility\",\n",
    "      \"menstrual cycles\", \"testosterone\", \"estrogen\", \"sperm\", \"sex chromosomes\",\n",
    "      \"germ cells\", \"GnRH\", \"melatonin\", \"leptin\", \"follicular\", \"AMH\",\n",
    "      \"oral contraceptives\", \"ovarian cancer\", \"IUDs\", \"sperm production\", \"vasectomy\",\n",
    "      \"anorexia nervosa\", \"nucleus accumbens\", \"sugar cravings\", \"gut neurons\",\n",
    "      \"obesity\", \"glucose metabolism\", \"glycemic index\", \"yerba mate\",\n",
    "      \"artificial sweeteners\", \"fiber\", \"gastric emptying time\", \"insulin\",\n",
    "      \"appetite suppression\", \"gut-brain axis\", \"DHT\", \"hair loss\", \"baldness\",\n",
    "      \"prostate health\", \"menopause\", \"aromatase inhibitors\", \"calcium D-glucarate\",\n",
    "      \"DIM\", \"SHBG\", \"testosterone therapy\", \"HCG\", \"marijuana\", \"nicotine\",\n",
    "      \"cycling\", \"pelvic floor\", \"alcohol\", \"fat\", \"fat fasting\", \"blood glucose\",\n",
    "      \"schizophrenia\", \"depression\", \"ketogenic diet\", \"fasted vs. fed states\",\n",
    "      \"focus\", \"low carbohydrate diets\", \"cholesterol\", \"saturated fat\",\n",
    "      \"LDL\", \"HDL\", \"Apolipoprotein B\", \"fasting\", \"metformin\", \"rapamycin\",\n",
    "      \"GABA\", \"highly processed foods\", \"ketones\", \"mental health benefits\",\n",
    "      \"psychiatric medications\", \"diet adherence\", \"intermittent fasting\",\n",
    "      \"metabolic flexibility\", \"blood glucose monitoring\", \"mTOR\", \"ketosis\",\n",
    "      \"brain energy\", \"spiking glucose during ketosis\", \"PCOS\", \"hypomania\",\n",
    "      \"Serotonin\"\n",
    "   ],\n",
    "    \"Gut Health and Microbiome\": [\n",
    "      \"microbiome\", \"gut health\", \"inflammation\", \"fermented foods\", \"probiotics\",\n",
    "      \"fiber\", \"constipation\", \"microbiota\", \"non-alcoholic fatty liver\"\n",
    "   ],\n",
    "      \"Relationships, Social Dynamics, and Personal Development\": [\n",
    "      \"romance\", \"love\", \"desire\", \"synthesis\", \"attachment styles\", \"mate choice\",\n",
    "      \"infidelity\", \"long-term mates\", \"short-term cheating\", \"social connection\",\n",
    "      \"jealousy\", \"mate value discrepancies\", \"deep social connection\", \"narcissism\",\n",
    "      \"machiavellianism\", \"psychopathy\", \"relationship stability\", \"romantic attachment\",\n",
    "      \"social isolation\", \"child-parent bonding\", \"friendship\", \"breakups\",\n",
    "      \"neural mechanisms\", \"serotonin\", \"psilocybin\", \"ketamine\", \"MDMA\", \"PTSD\",\n",
    "      \"depression\", \"ayahuasca\", \"meditation\", \"sleep\", \"cognitive flexibility\",\n",
    "      \"hallucinations\", \"neuropharmacology\", \"mental health therapy\",\n",
    "      \"electroconvulsive therapy\"\n",
    "   ],\n",
    "   \"Neuroscience, Biohacking, and Health Monitoring\": [\n",
    "      \"bloodwork\", \"biomarkers\", \"lifespan\", \"disease\", \"Sinclair Test\", \"smartphones\",\n",
    "      \"dopamine circuits\", \"dopamine neurons\", \"co-release glutamate\", \"neurochemical toolkit\",\n",
    "      \"individual goals\", \"happiness\", \"impulsivity\", \"mood\", \"creativity\", \"addiction\",\n",
    "      \"recovery\", \"binding behaviors\", \"dopamine stacking\", \"intrinsic motivation\",\n",
    "      \"pain-pleasure balance\", \"amphetamine\", \"cocaine\", \"detrimental rewiring\",\n",
    "      \"addiction recovery\", \"L-Tyrosine\", \"Ritalin\", \"Adderall\", \"Modafinil\",\n",
    "      \"Armodafinil\", \"smart drugs\", \"caffeine\", \"dangers\", \"neurogenesis\",\n",
    "      \"neuroplasticity\", \"binaural beats\", \"focus\", \"meditation\", \"procrastination\",\n",
    "      \"social homeostasis\", \"pleasure\", \"pain\", \"trauma\", \"arousal\", \"serotonin\",\n",
    "      \"time underestimation\", \"decreased frame rate\", \"cannabis\", \"alcohol\", \"nicotine\",\n",
    "      \"CBD\", \"THC\", \"vaping\", \"brain health\", \"dopamine\", \"psychoactive compounds\",\n",
    "      \"cannabinoids\", \"receptors\", \"nervous system function\", \"smoking\", \"tobacco\",\n",
    "      \"drug risk\", \"dependence\", \"inebriation\", \"neurodegeneration\"\n",
    "   ],\n",
    "    \"Taste, Smell, and Perception\": [\n",
    "      \"eating more plants\", \"eating more meat\", \"cravings\", \"desire\", \"pheromones\",\n",
    "      \"Coolidge Effect\", \"taste perception\", \"smell\", \"odorant similarity\", \"sniffing\",\n",
    "      \"romantic partner\", \"food\", \"pleasure\", \"reproduction\", \"dopamine\", \"serotonin\",\n",
    "      \"oxytocin\", \"acquired tastes\", \"conditioned taste aversion\", \"medical diagnostic\",\n",
    "      \"olfaction digitization\", \"fat sensing\", \"olfaction circuits\", \"social chemo-signals\",\n",
    "      \"fear\"\n",
    "   ]\n",
    "}\n"
   ]
  },
  {
   "cell_type": "code",
   "execution_count": null,
   "metadata": {},
   "outputs": [],
   "source": [
    "df_sorted"
   ]
  },
  {
   "attachments": {},
   "cell_type": "markdown",
   "metadata": {},
   "source": [
    "### Pick Keywords for each document"
   ]
  },
  {
   "cell_type": "code",
   "execution_count": null,
   "metadata": {},
   "outputs": [],
   "source": [
    "from langchain.chat_models import ChatOpenAI\n",
    "from langchain.prompts import PromptTemplate\n",
    "from langchain.docstore.document import Document\n",
    "from langchain.chains.summarize import load_summarize_chain\n",
    "from langchain import PromptTemplate, LLMChain"
   ]
  },
  {
   "cell_type": "code",
   "execution_count": null,
   "metadata": {},
   "outputs": [],
   "source": [
    "prompt_template = \"\"\"Pick right keywords for the [SUMMARY]. Select from the [KEYWORD LIST].\n",
    "\n",
    "\n",
    "- [SUMMARY]: {text}\n",
    "\n",
    "- [KEYWORD LIST]: {keywords}\n",
    "\n",
    "- [PICKED KEYWORDS] (selected from [KEYWORD LIST]):\"\"\""
   ]
  },
  {
   "cell_type": "code",
   "execution_count": null,
   "metadata": {},
   "outputs": [],
   "source": [
    "df_sorted.columns"
   ]
  },
  {
   "cell_type": "code",
   "execution_count": null,
   "metadata": {},
   "outputs": [],
   "source": [
    "model_name = \"gpt-3.5-turbo\"\n",
    "llm = ChatOpenAI(model_name=model_name)\n",
    "BULLET_POINT_PROMPT = PromptTemplate(template=prompt_template, \n",
    "                                    input_variables=[\"text\", \"keywords\"])\n",
    "chain = LLMChain(llm=llm,\n",
    "                prompt=BULLET_POINT_PROMPT)\n",
    "\n",
    "keyword_list = joblib.load(os.path.join(\"data\", \"keyword_list.joblib\"))\n",
    "for i, el in df_sorted.iloc[1917:, :].iterrows():\n",
    "    summary = el['summary']\n",
    "    keywords = chain.run(text=summary, keywords=str(cat_keywords[el['chatgpt_labels']])).replace('.', '')\n",
    "    keywords = keywords.split(', ')\n",
    "    \n",
    "    keyword_list.append(keywords)\n",
    "    if i%100 == 0:\n",
    "        print(i)\n",
    "        joblib.dump(keyword_list, os.path.join(\"data\", \"keyword_list_2.joblib\"))\n",
    "\n",
    "df_sorted[\"keywords\"] = keyword_list"
   ]
  },
  {
   "cell_type": "code",
   "execution_count": null,
   "metadata": {},
   "outputs": [],
   "source": [
    "df_sorted.to_csv(os.path.join(\"data\", \"summary_kmeans_with_chatgpt_and_keywords.csv\"), index=False)"
   ]
  }
 ],
 "metadata": {
  "kernelspec": {
   "display_name": "hubermanlab-qa-1tiWphOA-py3.9",
   "language": "python",
   "name": "python3"
  },
  "language_info": {
   "codemirror_mode": {
    "name": "ipython",
    "version": 3
   },
   "file_extension": ".py",
   "mimetype": "text/x-python",
   "name": "python",
   "nbconvert_exporter": "python",
   "pygments_lexer": "ipython3",
   "version": "3.9.17"
  },
  "orig_nbformat": 4
 },
 "nbformat": 4,
 "nbformat_minor": 2
}

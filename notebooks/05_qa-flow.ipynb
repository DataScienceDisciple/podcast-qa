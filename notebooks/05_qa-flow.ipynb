{
 "cells": [
  {
   "attachments": {},
   "cell_type": "markdown",
   "metadata": {},
   "source": [
    "## QA flow process\n",
    "\n",
    "In this notebook we will implement flow for question-answering based on summaries.\n",
    "\n",
    "The flow will look as follows:\n",
    "- Load FAISS index\n",
    "- Transform question to an embedding\n",
    "\n",
    "- Find top k closest neighbours of the question (k=20 for now)\n",
    "\n",
    "Relevant sources=0\n",
    "\n",
    "While not 3 relevant sources are found:\n",
    "- Ask ChatGPT if the source is relevant to the topic\n",
    "- If the source is relevant, ask ChatGPT to create an answer based on the summary and the whole transcript and add 1 to relevant sources counter.\n",
    "\n",
    "If no relevant source was found:\n",
    "- Return message \"I couldn't find relevant podcast segments.\"\n",
    "\n",
    "If 1 relevant source was found:\n",
    "- return answer as it is.\n",
    "\n",
    "If 2 or 3 sources were found:\n",
    "- rephrase the final answer to take into the account the answer from each source."
   ]
  },
  {
   "cell_type": "code",
   "execution_count": 16,
   "metadata": {},
   "outputs": [],
   "source": [
    "import os\n",
    "import time\n",
    "import json\n",
    "import pandas as pd\n",
    "import faiss\n",
    "import numpy as np\n",
    "from enum import Enum\n",
    "from dotenv import find_dotenv, load_dotenv\n",
    "\n",
    "from langchain import LLMChain  \n",
    "from langchain.chat_models import ChatOpenAI\n",
    "from langchain.prompts.chat import (  \n",
    "ChatPromptTemplate,  \n",
    "SystemMessagePromptTemplate,  \n",
    "HumanMessagePromptTemplate,  \n",
    ")  \n",
    "from langchain.embeddings import OpenAIEmbeddings\n",
    "from sentence_transformers import SentenceTransformer\n",
    "\n",
    "dotenv_path = find_dotenv()\n",
    "load_dotenv(dotenv_path)\n",
    "OPENAI_API_KEY = os.environ[\"OPENAI_API_KEY\"]\n"
   ]
  },
  {
   "cell_type": "markdown",
   "metadata": {},
   "source": [
    "### Templates"
   ]
  },
  {
   "cell_type": "code",
   "execution_count": 2,
   "metadata": {},
   "outputs": [],
   "source": [
    "SYSTEM_CHECK_TEMPLATE = \"\"\"You are a highly skilled and intelligent assistant. Your output will be used by the system for further processing so you must follow the task precisely. Don't provide any text that is not relevant to the task.\n",
    "\n",
    "The task is to assess the relevance of the context to the user question. If the question is relevant to the context, please provide a highly actionable and easy to understand answer to the question. Base your answer only on the provided context. If there is any information related to the question in the context, you have to answer. If it's not relevant at all, start your answer with \"Not relevant\" and provide an explanation why it's not relevant.\"\"\"\n",
    "\n",
    "\n",
    "HUMAN_CHECK_TEMPLATE = '''\n",
    "User question: \"{question}\"\n",
    "\n",
    "Context: \"\"\"{context}\"\"\"'''\n",
    "\n",
    "\n",
    "SYSTEM_FINAL_ANSWER_TEMPLATE = \"\"\"You are a highly skilled and intelligent question answering assistant that loves to help people optimize their performance and health. Your output will be shown to the end user who wants to get a highly actionable and easy to understand answer to their question. The input you will receive are answers to the question based on the most relevant resources found by the search engine. The input will contain from 1 to 3 answers.\n",
    "\n",
    "Your task is to rephrase the answers into one, coherent final answer that can be shown to the end user. Make use of listicles (max 10 items) and actionable examples to increase the chance of remembering the advice. Remember that the answer should be highly actionable. This is the main objective as we want to make the users optimize their performance and health, and make their life easier.\"\"\"\n",
    "\n",
    "\n",
    "HUMAN_FINAL_ANSWER_TEMPLATE = '''\n",
    "User question: \"{question}\"\n",
    "\n",
    "Answers: \"\"\"{context}\"\"\"'''"
   ]
  },
  {
   "attachments": {},
   "cell_type": "markdown",
   "metadata": {},
   "source": [
    "### Functions"
   ]
  },
  {
   "cell_type": "code",
   "execution_count": 17,
   "metadata": {},
   "outputs": [],
   "source": [
    "def segment_check_and_answer(question, context, model=\"gpt-3.5-turbo\"):\n",
    "    chat = ChatOpenAI(temperature=0, model_name=model)\n",
    "  \n",
    "    system_message_prompt = SystemMessagePromptTemplate.from_template(SYSTEM_CHECK_TEMPLATE)  \n",
    "    human_message_prompt = HumanMessagePromptTemplate.from_template(HUMAN_CHECK_TEMPLATE)  \n",
    "    chat_prompt = ChatPromptTemplate.from_messages([system_message_prompt, human_message_prompt])  \n",
    "    \n",
    "    chain = LLMChain(llm=chat, prompt=chat_prompt)  \n",
    "    output = chain.run(question=question, context=context)\n",
    "\n",
    "    return output\n",
    "\n",
    "\n",
    "def find_relevant_segments(df_summary, question, indices, n_relevant=3):\n",
    "    n_relevant_summaries = 0\n",
    "    relevant_summaries = {}\n",
    "    non_relevant_summaries = {}\n",
    "\n",
    "    for ind in indices[0]:\n",
    "        if n_relevant_summaries < n_relevant:\n",
    "            context = df_summary.loc[ind, \"summary\"]\n",
    "            answer = segment_check_and_answer(question=question, context=context)\n",
    "            if answer.startswith(\"Not relevant\"):\n",
    "                non_relevant_summaries[int(ind)] = answer\n",
    "            else:\n",
    "                n_relevant_summaries+=1\n",
    "                relevant_summaries[int(ind)] = {\"answer\": answer,\n",
    "                                           \"URL\": df_summary.loc[ind, \"url\"],\n",
    "                                           \"keywords\": df_summary.loc[ind, \"keywords\"]}\n",
    "        else:\n",
    "            return relevant_summaries, non_relevant_summaries\n",
    "    return relevant_summaries, non_relevant_summaries\n",
    "\n",
    "def final_answer(question, summaries, model=\"gpt-3.5-turbo\"):\n",
    "    chat = ChatOpenAI(temperature=0, model_name=model)\n",
    "  \n",
    "    system_message_prompt = SystemMessagePromptTemplate.from_template(SYSTEM_FINAL_ANSWER_TEMPLATE)  \n",
    "    human_message_prompt = HumanMessagePromptTemplate.from_template(HUMAN_FINAL_ANSWER_TEMPLATE)  \n",
    "    chat_prompt = ChatPromptTemplate.from_messages([system_message_prompt, human_message_prompt])  \n",
    "\n",
    "    answers = \"\\n\".join([f\"ANSWER {i+1}:\\n{answer['answer']}\\n\" for i, answer in enumerate(summaries.values())])\n",
    "    \n",
    "    chain = LLMChain(llm=chat, prompt=chat_prompt) \n",
    "    output = chain.run(question=question, context=answers)\n",
    "\n",
    "    return output\n",
    "\n",
    "def qa_full_flow(question, df_summary, embedding_model, index, n_neighbours=20, n_relevant_summaries=3):\n",
    "    start_time = time.time()\n",
    "    \n",
    "    # Encoding question to embedding space\n",
    "    if str(type(embedding_model)) == \"<class 'sentence_transformers.SentenceTransformer.SentenceTransformer'>\":\n",
    "        n_dim = embedding_model.get_sentence_embedding_dimension()\n",
    "        emb_query = embedding_model.encode(question)\n",
    "    elif str(type(embedding_model)) == \"<class 'langchain.embeddings.openai.OpenAIEmbeddings'>\":\n",
    "        n_dim = 1536\n",
    "        emb_query = embedding_model.embed_query(question)\n",
    "    else:\n",
    "        raise TypeError(\"Wrong Embedding model\")\n",
    "    \n",
    "    # Finding relevant summaries\n",
    "    # Getting indices\n",
    "    distances, indices = index.search(np.array(emb_query).reshape(1, n_dim), n_neighbours)\n",
    "    # Getting answers from segments\n",
    "    relevant_summaries, non_relevant_summaries = find_relevant_segments(df_summary, question, indices, n_relevant_summaries)\n",
    "    json.dump(relevant_summaries, open(f\"data/qa-outputs/{question}-relevant.json\", \"w\"))\n",
    "    json.dump(non_relevant_summaries, open(f\"data/qa-outputs/{question}-non-relevant.json\", \"w\"))\n",
    "\n",
    "    # Getting the final answer\n",
    "\n",
    "    answer = final_answer(question=question, summaries=relevant_summaries)\n",
    "\n",
    "    \n",
    "    answer += \"\\n\\nHere are HubermanLab Podcast segments that relate to your question:\\n\\n\"\n",
    "    for i, value in enumerate(relevant_summaries.values()):\n",
    "        answer += f'{i+1}. {value[\"URL\"]}\\n'\n",
    "        \n",
    "    with open(f\"data/qa-outputs/{question}-final-answer.txt\", \"w\") as f:\n",
    "        f.write(answer)\n",
    "\n",
    "    end_time = time.time()\n",
    "    print(f\"Final time: {round(end_time-start_time, 2)}\")\n",
    "    return answer\n"
   ]
  },
  {
   "attachments": {},
   "cell_type": "markdown",
   "metadata": {},
   "source": [
    "### Embedding model and index"
   ]
  },
  {
   "cell_type": "code",
   "execution_count": 5,
   "metadata": {},
   "outputs": [],
   "source": [
    "class EmbeddingModel(Enum):\n",
    "    SBERT = \"sbert\"\n",
    "    OPENAI = \"openai\""
   ]
  },
  {
   "cell_type": "code",
   "execution_count": 26,
   "metadata": {},
   "outputs": [],
   "source": [
    "N_DIM = 384\n",
    "N_NEIGHBOURS = 20\n",
    "model = SentenceTransformer('all-MiniLM-L6-v2')\n",
    "index = faiss.read_index(\"data/embeddings/faiss_summary_index_sbert.faiss\")\n",
    "df_summary = pd.read_csv(f\"data/summary_kmeans_with_chatgpt_and_keywords_final.csv\")"
   ]
  },
  {
   "cell_type": "code",
   "execution_count": 29,
   "metadata": {},
   "outputs": [
    {
     "data": {
      "text/plain": [
       "(True, True)"
      ]
     },
     "execution_count": 29,
     "metadata": {},
     "output_type": "execute_result"
    }
   ],
   "source": [
    "model1 = OpenAIEmbeddings()\n",
    "isinstance(model, SentenceTransformer), isinstance(model1, OpenAIEmbeddings)"
   ]
  },
  {
   "attachments": {},
   "cell_type": "markdown",
   "metadata": {},
   "source": [
    "## Full flow benchmark\n",
    "- What is the inference time\n",
    "- What is the quality of outputs\n",
    "- Is the \"acceptance\" model working correctly\n",
    "\n",
    "INPUT: \n",
    "- question\n",
    "\n",
    "OUTPUTS:\n",
    "- accepted summaries\n",
    "- disregarded summaries\n",
    "- final answer\n"
   ]
  },
  {
   "attachments": {},
   "cell_type": "markdown",
   "metadata": {},
   "source": [
    "### Test of outputs - 1"
   ]
  },
  {
   "cell_type": "code",
   "execution_count": 114,
   "metadata": {},
   "outputs": [],
   "source": [
    "queries = [\"Tools for creating an effective training program.\",\n",
    "           \"How to sleep well?\",\n",
    "           \"How to cure depression?\",\n",
    "           \"How to increase the chance of successfully conceiving a child?\",\n",
    "           \"Tools for increasing focus.\"]"
   ]
  },
  {
   "cell_type": "code",
   "execution_count": 115,
   "metadata": {},
   "outputs": [
    {
     "name": "stdout",
     "output_type": "stream",
     "text": [
      "Final time: 23.62\n",
      "To create an effective training program, here are some actionable tools and strategies you can incorporate:\n",
      "\n",
      "1. Nasal Breathing and Breath Holds: Incorporate nasal breathing and breath holds into your training program. This has been shown to have beneficial effects on physical and cognitive performance.\n",
      "\n",
      "2. Assess Properly: Use tools or methods to properly evaluate your current fitness level. This will help you identify specific training goals and areas for improvement.\n",
      "\n",
      "3. Set SMART Goals: Use the SMART system for goal setting. Set specific, measurable, attainable, realistic, and timely goals that align with your limitations and objectives.\n",
      "\n",
      "4. Plan Structured Training: Utilize planning tools or templates to create a structured and progressive training program. This will ensure that your program is tailored to your needs and goals.\n",
      "\n",
      "5. Incorporate Mental Training and Visualization: Consider incorporating mental training and visualization practices into your program. This involves imagining specific sequences of motor and cognitive behavior. Repeating these mental exercises over time improves metaplasticity and can lead to improvements in real-world performance.\n",
      "\n",
      "6. Create Parallels Between Real-World and Mental Training: Make sure to create many parallels between your real-world training and mental training. This will enhance the transfer of skills and improve overall performance.\n",
      "\n",
      "Remember, a combination of physical and mental training is considered best for learning a new skill. By incorporating these tools and strategies into your training program, you can optimize your performance and achieve your goals.\n",
      "Final time: 35.72\n",
      "To sleep well, here are some actionable tips:\n",
      "\n",
      "1. Maintain consistency in your sleep and wake times. Try to keep your sleep-wake times relatively constant, with a difference of plus or minus an hour.\n",
      "2. Avoid sleeping in longer than an hour beyond your normal wake-up time.\n",
      "3. If you need to take a nap, do so in the afternoon and make sure it's not too long or too late in the day to avoid disrupting your nighttime sleep.\n",
      "4. Limit your caffeine intake, especially in the afternoon. Wait 90 to 120 minutes after waking up before consuming caffeine.\n",
      "5. Consider trying deep relaxation methods like NSDR or using the Reveri app to compensate for lack of sleep.\n",
      "6. Set up a good sleep routine by prioritizing the middle of the day and afternoon hours.\n",
      "7. Create a relaxing bedtime routine to signal to your body that it's time to sleep. This can include activities such as reading a book, taking a warm bath, or practicing deep breathing exercises.\n",
      "8. Ensure your sleep environment is comfortable, quiet, and dark. Consider using earplugs, an eye mask, or white noise machines if needed.\n",
      "9. Avoid consuming caffeine, nicotine, and alcohol close to bedtime, as they can interfere with your sleep.\n",
      "10. Engage in regular physical activity during the day, but avoid exercising too close to bedtime.\n",
      "\n",
      "Remember, everyone's sleep needs are different, so it may take some trial and error to find what works best for you. If you continue to struggle with sleep, consider speaking with a healthcare professional for further guidance and support.\n",
      "Final time: 44.13\n",
      "To cure depression, it is important to consider various treatment options. One potential treatment is the use of EPA (eicosapentaenoic acid). Studies have shown that taking sufficient doses of EPA can help with depression relief. Here are some actionable steps you can take:\n",
      "\n",
      "1. Consult a professional: Before making any changes to your medication or treatment plan, it is crucial to consult a mental health professional. They can provide guidance and ensure that you are receiving the appropriate care.\n",
      "\n",
      "2. Consider EPA supplementation: Talk to your doctor about the possibility of incorporating EPA supplementation into your treatment plan. They can help determine the appropriate dosage for you.\n",
      "\n",
      "3. Maintain a healthy lifestyle: In addition to medication and therapy, it is important to take care of your overall well-being. This includes getting regular exercise, eating a balanced diet, and getting enough sleep.\n",
      "\n",
      "4. Practice stress management techniques: Find healthy ways to manage stress, such as practicing mindfulness, deep breathing exercises, or engaging in activities that bring you joy and relaxation.\n",
      "\n",
      "5. Build a support system: Surround yourself with a strong support system of friends, family, or support groups who can provide emotional support and understanding.\n",
      "\n",
      "Remember, everyone's journey with depression is unique, and what works for one person may not work for another. It is important to work closely with a mental health professional to find the best treatment plan for you.\n",
      "Final time: 39.73\n",
      "To increase the chance of successfully conceiving a child, here are some actionable steps you can take:\n",
      "\n",
      "1. Time intercourse around ovulation: Have intercourse around the time of ovulation, when the egg is released from the ovary and ready to be fertilized. This is typically the most fertile time in a woman's menstrual cycle.\n",
      "\n",
      "2. Maximize sperm quality: Practice a period of abstinence ranging from 48 to 72 hours prior to ejaculation to increase the concentration of healthy sperm. This can improve the chances of successful fertilization.\n",
      "\n",
      "3. Understand your ovulation timing: Track your menstrual cycles and use methods like ovulation predictor kits or monitoring basal body temperature to identify when you are most fertile. This can help you time intercourse more accurately.\n",
      "\n",
      "4. Get your fertility assessed: Consider getting your AMH levels measured if you're female, as it can provide insights into your egg reserve and overall fertility potential. Males can have a sperm analysis done to check for any potential issues with sperm quality.\n",
      "\n",
      "5. Consider additional tests: Depending on your situation, you may want to consider additional tests like DNA fragmentation analysis or hormone analysis to evaluate fertility factors.\n",
      "\n",
      "6. Avoid factors that negatively impact fertility: Take active steps to avoid factors that can negatively impact fertility, such as smoking, excessive alcohol consumption, and exposure to environmental toxins.\n",
      "\n",
      "7. Give it time: It's important to remember that conceiving may not happen immediately. It's normal for it to take several months of trying before successfully conceiving. Don't get discouraged and keep trying.\n",
      "\n",
      "8. Seek professional advice: If you have any concerns or questions about conceiving, it's always advisable to consult with a medical professional who can provide personalized advice and guidance.\n",
      "\n",
      "Remember, while these steps can increase the probability of successful fertilization, there is no guarantee of conception. Stay positive, take care of your health, and be patient in your journey to conceive a child.\n",
      "Final time: 33.58\n",
      "To increase focus, there are several actionable tools and strategies you can implement:\n",
      "\n",
      "1. Visual Focus: Practice visually focusing on one location for 30 seconds to three minutes. This enhances overt visual focus and attention, which in turn enhances cognitive focus. Refocusing is also important for training the brain to focus better.\n",
      "\n",
      "2. Warm-up: Understand that focus requires a warm-up. Start with simple tasks and gradually move on to more complex ones to ease into a focused state.\n",
      "\n",
      "3. Boost Neurochemicals: Increase neurochemicals like epinephrine, adrenaline, acetylcholine, and dopamine. You can do this through activities like exercise, proper nutrition, and staying hydrated.\n",
      "\n",
      "4. Gradual Progression: Focus is a dynamic process that involves gradually dropping into shallow focus and progressing to deeper levels of focus. Start with easier tasks and gradually move on to more challenging ones.\n",
      "\n",
      "5. Release Pressure: Avoid putting too much pressure on yourself to feel focused all the time. Accept that focus fluctuates and it's normal to have moments of distraction.\n",
      "\n",
      "6. Neuroplasticity: Improve focus through neuroplasticity by engaging the neural circuits responsible for focus repeatedly over time. Practice focusing on tasks for extended periods and gradually increase the duration.\n",
      "\n",
      "7. Optimize Sleep: Prioritize quality sleep as it plays a crucial role in improving focus. Establish a consistent sleep routine, create a conducive sleep environment, and ensure you get enough restorative sleep.\n",
      "\n",
      "8. Auditory Tools: Consider using auditory sound-based tools like 40 Hz binaural beats and white, pink, or brown noise. These can help create a focused and calming environment.\n",
      "\n",
      "9. Connect Emotionally: Connect tasks to your personal values and goals to increase motivation and engagement. Repeating what is emotionally important to you can trigger neuroplasticity and enhance focus.\n",
      "\n",
      "10. Be Patient and Consistent: Remember that focus is not a step function but a dynamic process. Be patient with yourself and practice these strategies consistently over time to improve your ability to focus.\n",
      "\n",
      "By implementing these tools and strategies, you can optimize your focus and concentration for improved performance and productivity.\n"
     ]
    }
   ],
   "source": [
    "for query in queries:\n",
    "    answer = qa_full_flow(query, df_summary, model, index, n_neighbours=20, n_relevant_summaries=3)\n",
    "    print(answer)\n",
    "    "
   ]
  },
  {
   "attachments": {},
   "cell_type": "markdown",
   "metadata": {},
   "source": [
    "### Test of outputs - 2 (Twitter)"
   ]
  },
  {
   "cell_type": "code",
   "execution_count": 12,
   "metadata": {},
   "outputs": [],
   "source": [
    "queries = [\"What are the preferable day phases to expose myself to the sun and how does it affect sleep?\",\n",
    "           \"What is the best diet for losing weight?\",\n",
    "           \"What's the best way to stimulate muscle growth for strength?\",\n",
    "           \"What's the impact of coffee and adenosine on our sleep?\"\n",
    "           ]"
   ]
  },
  {
   "cell_type": "code",
   "execution_count": 15,
   "metadata": {},
   "outputs": [
    {
     "name": "stdout",
     "output_type": "stream",
     "text": [
      "Final time: 36.12\n",
      "The impact of coffee and adenosine on our sleep is that caffeine, which is found in coffee, binds to adenosine receptors in our brain. Adenosine is a compound that accumulates throughout the day and makes us feel tired. When caffeine binds to adenosine receptors, it prevents adenosine from signaling tiredness, leading to increased alertness and a delay in the timing of sleepy signals. However, it's important to note that caffeine does not create more energy, it simply changes the timing of our sleep and wakefulness signals.\n",
      "\n",
      "To optimize your sleep and maintain a healthy sleep schedule, here are some actionable tips:\n",
      "\n",
      "1. Limit caffeine intake: Be mindful of your caffeine consumption, especially in the afternoon and evening. Consider switching to decaffeinated coffee or herbal tea in the later part of the day.\n",
      "\n",
      "2. Establish a bedtime routine: Create a relaxing routine before bed to signal to your body that it's time to wind down. This can include activities such as reading a book, taking a warm bath, or practicing relaxation techniques like deep breathing or meditation.\n",
      "\n",
      "3. Create a sleep-friendly environment: Make sure your bedroom is cool, dark, and quiet. Use blackout curtains, earplugs, or a white noise machine if necessary to create a conducive sleep environment.\n",
      "\n",
      "4. Stick to a consistent sleep schedule: Try to go to bed and wake up at the same time every day, even on weekends. This helps regulate your body's internal clock and promotes better sleep quality.\n",
      "\n",
      "5. Limit exposure to screens before bed: The blue light emitted by electronic devices can interfere with your sleep. Avoid using screens, such as smartphones, tablets, and laptops, for at least an hour before bed. Instead, engage in relaxing activities or read a physical book.\n",
      "\n",
      "6. Avoid large meals and stimulants close to bedtime: Eating heavy meals or consuming stimulants like nicotine or alcohol close to bedtime can disrupt your sleep. Opt for lighter meals and avoid stimulants at least a few hours before bed.\n",
      "\n",
      "7. Exercise regularly: Engaging in regular physical activity can help improve sleep quality. Aim for at least 30 minutes of moderate-intensity exercise most days of the week, but avoid exercising too close to bedtime as it can increase alertness.\n",
      "\n",
      "8. Manage stress: High levels of stress can interfere with sleep. Find healthy ways to manage stress, such as practicing relaxation techniques, engaging in hobbies, or seeking support from a therapist or counselor.\n",
      "\n",
      "9. Consider natural sleep aids: If you're having trouble falling asleep or staying asleep, you may consider natural sleep aids like melatonin or herbal supplements. However, it's important to consult with a healthcare professional before starting any new supplements.\n",
      "\n",
      "10. Keep a sleep diary: Tracking your sleep patterns and habits can help identify any patterns or triggers that may be affecting your sleep. Note down your bedtime, wake time, caffeine intake, exercise, and any other relevant factors to gain insights into your sleep patterns.\n",
      "\n",
      "Remember, everyone's response to caffeine and adenosine is different, so it's important to listen to your body and make adjustments that work best for you.\n",
      " Here are HubermanLab Podcast segments that relate to your question:\n",
      "https://www.youtube.com/watch?v=iw97uvIge7c&t=2281s\n",
      "https://www.youtube.com/watch?v=nm1TxQj9IsQ&t=375s\n",
      "https://www.youtube.com/watch?v=nm1TxQj9IsQ&t=540s\n",
      "\n"
     ]
    }
   ],
   "source": [
    "question = \"What's the impact of coffee and adenosine on our sleep?\"\n",
    "answer = qa_full_flow(question, df_summary, model, index, n_neighbours=20, n_relevant_summaries=3)\n",
    "print(answer)"
   ]
  },
  {
   "cell_type": "code",
   "execution_count": 16,
   "metadata": {},
   "outputs": [],
   "source": [
    "for query in queries:\n",
    "    answer = qa_full_flow(query, df_summary, model, index, n_neighbours=20, n_relevant_summaries=3)\n",
    "    print(answer)\n",
    "    "
   ]
  }
 ],
 "metadata": {
  "kernelspec": {
   "display_name": "hubermanlab-qa-1tiWphOA-py3.9",
   "language": "python",
   "name": "python3"
  },
  "language_info": {
   "codemirror_mode": {
    "name": "ipython",
    "version": 3
   },
   "file_extension": ".py",
   "mimetype": "text/x-python",
   "name": "python",
   "nbconvert_exporter": "python",
   "pygments_lexer": "ipython3",
   "version": "3.9.17"
  },
  "orig_nbformat": 4
 },
 "nbformat": 4,
 "nbformat_minor": 2
}

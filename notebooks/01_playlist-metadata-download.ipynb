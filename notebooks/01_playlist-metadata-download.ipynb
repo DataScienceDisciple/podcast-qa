{
 "cells": [
  {
   "cell_type": "code",
   "execution_count": 1,
   "metadata": {
    "collapsed": false
   },
   "outputs": [
    {
     "data": {
      "text/plain": [
       "True"
      ]
     },
     "execution_count": 1,
     "metadata": {},
     "output_type": "execute_result"
    }
   ],
   "source": [
    "import os\n",
    "import pandas as pd\n",
    "\n",
    "from pyyoutube import Api\n",
    "from googleapiclient.discovery import build\n",
    "from dotenv import find_dotenv, load_dotenv\n",
    "\n",
    "dotenv_path = find_dotenv()\n",
    "load_dotenv(dotenv_path)"
   ]
  },
  {
   "cell_type": "markdown",
   "metadata": {
    "collapsed": false
   },
   "source": [
    "## Get YT API key"
   ]
  },
  {
   "cell_type": "code",
   "execution_count": 2,
   "metadata": {
    "collapsed": false
   },
   "outputs": [],
   "source": [
    "YT_API_KEY = os.environ['YT_API_KEY']\n",
    "api = Api(api_key=YT_API_KEY)\n",
    "YT_DISPLAY_NAME = \"Andrew Huberman\"\n",
    "PLAYLIST_NAME = \"Huberman Lab\""
   ]
  },
  {
   "cell_type": "markdown",
   "metadata": {
    "collapsed": false
   },
   "source": [
    "## Get User's videos from playlist"
   ]
  },
  {
   "cell_type": "code",
   "execution_count": null,
   "metadata": {
    "collapsed": false
   },
   "outputs": [],
   "source": [
    "def get_channel_id(display_name, api_key):\n",
    "    youtube = build('youtube', 'v3', developerKey=api_key)\n",
    "    response = youtube.search().list(\n",
    "        part='snippet',\n",
    "        type='channel',\n",
    "        q=display_name,\n",
    "        maxResults=1\n",
    "    ).execute()\n",
    "\n",
    "    if response['items']:\n",
    "        return response['items'][0]['snippet']['channelId']\n",
    "    else:\n",
    "        print('No channel found for the given display name')\n",
    "        return None"
   ]
  },
  {
   "cell_type": "code",
   "execution_count": null,
   "metadata": {
    "collapsed": false
   },
   "outputs": [],
   "source": [
    "def get_user_playlist_by_name(yt_api, user_id, playlist_name):\n",
    "    for playlist in yt_api.get_playlists(channel_id=user_id, count=None).items:\n",
    "        if playlist.to_dict()['snippet']['title'] == playlist_name:\n",
    "            return playlist\n",
    "    raise NameError(f'Playlist {playlist_name} does not exist for user {user_id}')\n",
    "\n",
    "\n",
    "def get_video_data_from_playlist(yt_api: Api, playlist):\n",
    "    playlist_videos = yt_api.get_playlist_items(playlist_id=playlist.id, count=None)\n",
    "    return pd.DataFrame([(item['contentDetails']['videoId'],\n",
    "                          item['snippet']['title'],\n",
    "                          item['snippet']['description']) for item in playlist_videos.to_dict()['items']],\n",
    "                        columns=['videoId', 'title', 'description'])"
   ]
  },
  {
   "cell_type": "code",
   "execution_count": null,
   "metadata": {
    "collapsed": false
   },
   "outputs": [],
   "source": [
    "channel_id = get_channel_id(YT_DISPLAY_NAME, YT_API_KEY)\n",
    "podcast_playlist = get_user_playlist_by_name(api, channel_id, PLAYLIST_NAME)\n",
    "video_data = get_video_data_from_playlist(api, podcast_playlist)"
   ]
  },
  {
   "cell_type": "code",
   "execution_count": null,
   "metadata": {},
   "outputs": [],
   "source": [
    "video_data"
   ]
  },
  {
   "cell_type": "code",
   "execution_count": null,
   "metadata": {
    "collapsed": false
   },
   "outputs": [],
   "source": [
    "video_data.to_csv(os.path.join('data', 'video_metadata.csv'), index=False)"
   ]
  }
 ],
 "metadata": {
  "kernelspec": {
   "display_name": "Python 3",
   "language": "python",
   "name": "python3"
  },
  "language_info": {
   "codemirror_mode": {
    "name": "ipython",
    "version": 3
   },
   "file_extension": ".py",
   "mimetype": "text/x-python",
   "name": "python",
   "nbconvert_exporter": "python",
   "pygments_lexer": "ipython3",
   "version": "3.9.17"
  }
 },
 "nbformat": 4,
 "nbformat_minor": 0
}
